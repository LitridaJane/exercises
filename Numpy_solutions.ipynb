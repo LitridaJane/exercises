{
  "nbformat": 4,
  "nbformat_minor": 0,
  "metadata": {
    "colab": {
      "provenance": [],
      "collapsed_sections": []
    },
    "kernelspec": {
      "name": "python3",
      "display_name": "Python 3"
    },
    "language_info": {
      "name": "python"
    }
  },
  "cells": [
    {
      "cell_type": "code",
      "execution_count": null,
      "metadata": {
        "id": "Ofi7SakD_9Rx"
      },
      "outputs": [],
      "source": [
        "# a. Импортируйте библиотеку NumPy\n",
        "import numpy as np"
      ]
    },
    {
      "cell_type": "code",
      "source": [
        "# b. Создайте массив из 10 нулей\n",
        "x = np.zeros(10)\n",
        "print(x)"
      ],
      "metadata": {
        "colab": {
          "base_uri": "https://localhost:8080/"
        },
        "id": "uB58eOr4AGZJ",
        "outputId": "88579036-01fb-47f9-bccb-6b5dc6471afc"
      },
      "execution_count": null,
      "outputs": [
        {
          "output_type": "stream",
          "name": "stdout",
          "text": [
            "[0. 0. 0. 0. 0. 0. 0. 0. 0. 0.]\n"
          ]
        }
      ]
    },
    {
      "cell_type": "code",
      "source": [
        "# c. Создать массив из 10 единиц\n",
        "y = np.ones(10)\n",
        "print(y)"
      ],
      "metadata": {
        "colab": {
          "base_uri": "https://localhost:8080/"
        },
        "id": "pTPxn5ytAJts",
        "outputId": "d9241495-fc9b-4362-f891-88df36851db9"
      },
      "execution_count": null,
      "outputs": [
        {
          "output_type": "stream",
          "name": "stdout",
          "text": [
            "[1. 1. 1. 1. 1. 1. 1. 1. 1. 1.]\n"
          ]
        }
      ]
    },
    {
      "cell_type": "code",
      "source": [
        "# d. Создать массив из 10 пятерок\n",
        "z = np.array([5,5,5,5,5,5,5,5,5,5])\n",
        "print(z)"
      ],
      "metadata": {
        "colab": {
          "base_uri": "https://localhost:8080/"
        },
        "id": "7kXJIefOAao0",
        "outputId": "a9e310de-c7cd-440c-a041-50cf47649a5d"
      },
      "execution_count": null,
      "outputs": [
        {
          "output_type": "stream",
          "name": "stdout",
          "text": [
            "[5 5 5 5 5 5 5 5 5 5]\n"
          ]
        }
      ]
    },
    {
      "cell_type": "code",
      "source": [
        "# e. Создать массив из целых чисел от 10 до 50\n",
        "q = np.arange(10,51,1)\n",
        "print(q)"
      ],
      "metadata": {
        "colab": {
          "base_uri": "https://localhost:8080/"
        },
        "id": "UliJ--Q9AmUT",
        "outputId": "afe17509-6034-4a20-d69a-29d2e0842114"
      },
      "execution_count": null,
      "outputs": [
        {
          "output_type": "stream",
          "name": "stdout",
          "text": [
            "[10 11 12 13 14 15 16 17 18 19 20 21 22 23 24 25 26 27 28 29 30 31 32 33\n",
            " 34 35 36 37 38 39 40 41 42 43 44 45 46 47 48 49 50]\n"
          ]
        }
      ]
    },
    {
      "cell_type": "code",
      "source": [
        "# f. Создать массив из четных чисел от 10 до 50\n",
        "t = np.arange(10,51,2)\n",
        "print(t)"
      ],
      "metadata": {
        "colab": {
          "base_uri": "https://localhost:8080/"
        },
        "id": "YHJiOKEKAqI2",
        "outputId": "0dbaffa9-6d23-4c19-8b48-836e8ce15505"
      },
      "execution_count": null,
      "outputs": [
        {
          "output_type": "stream",
          "name": "stdout",
          "text": [
            "[10 12 14 16 18 20 22 24 26 28 30 32 34 36 38 40 42 44 46 48 50]\n"
          ]
        }
      ]
    },
    {
      "cell_type": "code",
      "source": [
        "# g. Создать матрицу 3х3 с числами от 0 до 8\n",
        "\n",
        "matrix = np.arange(9).reshape(3,3)\n",
        "print(matrix)"
      ],
      "metadata": {
        "colab": {
          "base_uri": "https://localhost:8080/"
        },
        "id": "JwzTtY2KAzV2",
        "outputId": "964a3241-3a43-41d3-a897-7fedf9a79e6f"
      },
      "execution_count": null,
      "outputs": [
        {
          "output_type": "stream",
          "name": "stdout",
          "text": [
            "[[0 1 2]\n",
            " [3 4 5]\n",
            " [6 7 8]]\n"
          ]
        }
      ]
    },
    {
      "cell_type": "code",
      "source": [
        "# h. Создать единичную матрицу 3x3\n",
        "n = np.eye(3)\n",
        "print(n)"
      ],
      "metadata": {
        "colab": {
          "base_uri": "https://localhost:8080/"
        },
        "id": "W8yUUvhzBa9Y",
        "outputId": "b2fdae8c-fdff-423f-e583-e8c11c8e61ff"
      },
      "execution_count": null,
      "outputs": [
        {
          "output_type": "stream",
          "name": "stdout",
          "text": [
            "[[1. 0. 0.]\n",
            " [0. 1. 0.]\n",
            " [0. 0. 1.]]\n"
          ]
        }
      ]
    },
    {
      "cell_type": "code",
      "source": [
        "# i. Используйте NumPy для генерации случайного числа от 0 до 1\n",
        "rndm = np.random.rand(2)\n",
        "print(rndm)"
      ],
      "metadata": {
        "colab": {
          "base_uri": "https://localhost:8080/"
        },
        "id": "psBE5fNxBwcs",
        "outputId": "732a1167-6141-4964-9948-a800d1aa6672"
      },
      "execution_count": null,
      "outputs": [
        {
          "output_type": "stream",
          "name": "stdout",
          "text": [
            "[0.41313228 0.16627379]\n"
          ]
        }
      ]
    },
    {
      "cell_type": "code",
      "source": [
        "# j. Используйте NumPy для генерации массива из 25 случайных чисел, взятых из стандартного нормального распределения\n",
        "rndm = np.random.rand(25)\n",
        "print(rndm)"
      ],
      "metadata": {
        "colab": {
          "base_uri": "https://localhost:8080/"
        },
        "id": "dtFJYs8zEX5w",
        "outputId": "3d76d745-7e43-4f96-8111-6d045b2fb040"
      },
      "execution_count": null,
      "outputs": [
        {
          "output_type": "stream",
          "name": "stdout",
          "text": [
            "[0.16643054 0.45925429 0.17011085 0.63031108 0.35986703 0.60633206\n",
            " 0.85881703 0.70860713 0.27014831 0.70310785 0.9501963  0.77244665\n",
            " 0.7296545  0.40643112 0.23180261 0.94721989 0.73863829 0.32612638\n",
            " 0.10128311 0.00566977 0.94526721 0.44393401 0.9322126  0.74161574\n",
            " 0.19087755]\n"
          ]
        }
      ]
    },
    {
      "cell_type": "code",
      "source": [
        "# k. Создайте следующую матрицу используя функции библиотеки NumPy\n",
        "\n",
        "matrix = np.arange(0.01,1.01,0.01)\n",
        "print(matrix)"
      ],
      "metadata": {
        "colab": {
          "base_uri": "https://localhost:8080/"
        },
        "id": "l2nXYRkDHoaC",
        "outputId": "da0b2d50-ed71-4149-e302-c2fa75c028ed"
      },
      "execution_count": null,
      "outputs": [
        {
          "output_type": "stream",
          "name": "stdout",
          "text": [
            "[0.01 0.02 0.03 0.04 0.05 0.06 0.07 0.08 0.09 0.1  0.11 0.12 0.13 0.14\n",
            " 0.15 0.16 0.17 0.18 0.19 0.2  0.21 0.22 0.23 0.24 0.25 0.26 0.27 0.28\n",
            " 0.29 0.3  0.31 0.32 0.33 0.34 0.35 0.36 0.37 0.38 0.39 0.4  0.41 0.42\n",
            " 0.43 0.44 0.45 0.46 0.47 0.48 0.49 0.5  0.51 0.52 0.53 0.54 0.55 0.56\n",
            " 0.57 0.58 0.59 0.6  0.61 0.62 0.63 0.64 0.65 0.66 0.67 0.68 0.69 0.7\n",
            " 0.71 0.72 0.73 0.74 0.75 0.76 0.77 0.78 0.79 0.8  0.81 0.82 0.83 0.84\n",
            " 0.85 0.86 0.87 0.88 0.89 0.9  0.91 0.92 0.93 0.94 0.95 0.96 0.97 0.98\n",
            " 0.99 1.  ]\n"
          ]
        }
      ]
    },
    {
      "cell_type": "code",
      "source": [
        "# Дана стартовая матрица (обязательно запустите код ниже в вашем решении!). Эта матрица будет использоваться в последующих задачах\n",
        "mat = np.arange(1,26).reshape(5,5)\n",
        "print(mat)"
      ],
      "metadata": {
        "colab": {
          "base_uri": "https://localhost:8080/"
        },
        "id": "XCE1mN22Lv23",
        "outputId": "a434eae5-7a9e-455f-d4ae-65ee49ef7f13"
      },
      "execution_count": null,
      "outputs": [
        {
          "output_type": "stream",
          "name": "stdout",
          "text": [
            "[[ 1  2  3  4  5]\n",
            " [ 6  7  8  9 10]\n",
            " [11 12 13 14 15]\n",
            " [16 17 18 19 20]\n",
            " [21 22 23 24 25]]\n"
          ]
        }
      ]
    },
    {
      "cell_type": "code",
      "source": [
        "# l. Необходимо написать код который вернет следующую матрицу из стартовой\n",
        "x = mat[2:5,1:5]\n",
        "print(x)"
      ],
      "metadata": {
        "colab": {
          "base_uri": "https://localhost:8080/"
        },
        "id": "8A5NTGyRL96S",
        "outputId": "c898694a-4eaf-48ad-d991-e1e04634b704"
      },
      "execution_count": null,
      "outputs": [
        {
          "output_type": "stream",
          "name": "stdout",
          "text": [
            "[[12 13 14 15]\n",
            " [17 18 19 20]\n",
            " [22 23 24 25]]\n"
          ]
        }
      ]
    },
    {
      "cell_type": "code",
      "source": [
        "# m. Написать код обращения к элементу который вернет значение  20 из стартовой матрицы задачи l\n",
        "x = mat[3][4:]\n",
        "print(x)"
      ],
      "metadata": {
        "colab": {
          "base_uri": "https://localhost:8080/"
        },
        "id": "Da0h60ffasDK",
        "outputId": "066b8f81-1518-43af-b52a-229ddbaa8b31"
      },
      "execution_count": null,
      "outputs": [
        {
          "output_type": "stream",
          "name": "stdout",
          "text": [
            "[20]\n"
          ]
        }
      ]
    },
    {
      "cell_type": "code",
      "source": [
        "# n. Написать код к стартовой матрице задачи l , который воспроизводит вывод, показанный ниже\n",
        "x = mat[0:3,1::5]\n",
        "print(x)"
      ],
      "metadata": {
        "colab": {
          "base_uri": "https://localhost:8080/"
        },
        "id": "I4Mv6Xj2a_OZ",
        "outputId": "32984646-6423-4d21-b482-a535948b181f"
      },
      "execution_count": null,
      "outputs": [
        {
          "output_type": "stream",
          "name": "stdout",
          "text": [
            "[[ 2]\n",
            " [ 7]\n",
            " [12]]\n"
          ]
        }
      ]
    },
    {
      "cell_type": "code",
      "source": [
        "# o.Написать код к стартовой матрице задачи l , который воспроизводитвывод, показанный ниже\n",
        "x = mat[4:,:]\n",
        "print(x)"
      ],
      "metadata": {
        "colab": {
          "base_uri": "https://localhost:8080/"
        },
        "id": "zPx5_fvqcV7x",
        "outputId": "e5e9aafb-9c64-4cf7-bdc5-620a7c1cf209"
      },
      "execution_count": null,
      "outputs": [
        {
          "output_type": "stream",
          "name": "stdout",
          "text": [
            "[[21 22 23 24 25]]\n"
          ]
        }
      ]
    },
    {
      "cell_type": "code",
      "source": [
        "# p.Написать код к стартовой матрице задачи l , который воспроизводит вывод, показанный ниже\n",
        "x = mat[3:,:]\n",
        "print(x)"
      ],
      "metadata": {
        "colab": {
          "base_uri": "https://localhost:8080/"
        },
        "id": "HHJ3iCKOdGk-",
        "outputId": "4ff00fb9-1555-4e46-c5e8-954777245030"
      },
      "execution_count": null,
      "outputs": [
        {
          "output_type": "stream",
          "name": "stdout",
          "text": [
            "[[16 17 18 19 20]\n",
            " [21 22 23 24 25]]\n"
          ]
        }
      ]
    },
    {
      "cell_type": "code",
      "source": [
        " # q. Получить сумму всех значений в стартовой матрице mat\n",
        "print(mat.sum())\n",
        "print('--------------')\n",
        "s = 0\n",
        "for i in mat:\n",
        "    s+= sum(i)\n",
        "print(s)"
      ],
      "metadata": {
        "colab": {
          "base_uri": "https://localhost:8080/"
        },
        "id": "_Y57lwFzeLXN",
        "outputId": "62eb73de-6019-436c-b93f-14cf93058d5a"
      },
      "execution_count": null,
      "outputs": [
        {
          "output_type": "stream",
          "name": "stdout",
          "text": [
            "325\n",
            "--------------\n",
            "325\n"
          ]
        }
      ]
    },
    {
      "cell_type": "code",
      "source": [
        "# r. Получить стандартное отклонение в стартовой матрице mat\n",
        "x = np.std(mat)\n",
        "print(x)"
      ],
      "metadata": {
        "colab": {
          "base_uri": "https://localhost:8080/"
        },
        "id": "fjYDbWcMf90y",
        "outputId": "6af581f0-1220-4469-eda1-a334ceb95bca"
      },
      "execution_count": null,
      "outputs": [
        {
          "output_type": "stream",
          "name": "stdout",
          "text": [
            "7.211102550927978\n"
          ]
        }
      ]
    },
    {
      "cell_type": "code",
      "source": [
        "#s. Получить сумму значений в колонках в стартовой матрице mat\n",
        "x = np.sum(mat, axis=0)\n",
        "print(x)"
      ],
      "metadata": {
        "colab": {
          "base_uri": "https://localhost:8080/"
        },
        "id": "JyP8oFt-gouf",
        "outputId": "9d210b39-7d4d-49b5-fb9e-5f8512f8b530"
      },
      "execution_count": null,
      "outputs": [
        {
          "output_type": "stream",
          "name": "stdout",
          "text": [
            "[55 60 65 70 75]\n"
          ]
        }
      ]
    }
  ]
}